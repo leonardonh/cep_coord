{
 "cells": [
  {
   "cell_type": "code",
   "execution_count": 1,
   "metadata": {},
   "outputs": [],
   "source": [
    "#!pip install pycep_correios"
   ]
  },
  {
   "cell_type": "code",
   "execution_count": 2,
   "metadata": {},
   "outputs": [],
   "source": [
    "#!pip install geopy"
   ]
  },
  {
   "cell_type": "code",
   "execution_count": 3,
   "metadata": {},
   "outputs": [],
   "source": [
    "#!pip install pygeocoder"
   ]
  },
  {
   "cell_type": "code",
   "execution_count": 1,
   "metadata": {},
   "outputs": [],
   "source": [
    "from selenium import webdriver\n",
    "from selenium.webdriver.common.keys import Keys\n",
    "import os\n",
    "import pycep_correios\n",
    "from geopy.geocoders import Nominatim\n",
    "import pandas as pd\n",
    "import warnings\n",
    "warnings.filterwarnings('ignore')\n",
    "import numpy as np"
   ]
  },
  {
   "cell_type": "code",
   "execution_count": 3,
   "metadata": {},
   "outputs": [],
   "source": [
    "cwd = os.getcwd()"
   ]
  },
  {
   "cell_type": "code",
   "execution_count": 4,
   "metadata": {},
   "outputs": [],
   "source": [
    "cwd = os.getcwd()\n",
    "chromeOptions = webdriver.ChromeOptions()\n",
    "prefs = {\"download.default_directory\" : cwd}\n",
    "chromeOptions.add_experimental_option(\"prefs\",prefs)\n",
    "chromedriver = cwd + \"/chromedriver.exe\"\n",
    "driver = webdriver.Chrome(executable_path=chromedriver, chrome_options=chromeOptions)\n",
    "driver.get(\"https://www.google.com.br/maps\")"
   ]
  },
  {
   "cell_type": "code",
   "execution_count": 5,
   "metadata": {},
   "outputs": [],
   "source": [
    "# importação da base de dados com CEP\n",
    "data = pd.read_excel()"
   ]
  },
  {
   "cell_type": "markdown",
   "metadata": {},
   "source": [
    "### Coordenadas geográficas de CEP e Endereço Google Maps"
   ]
  },
  {
   "cell_type": "code",
   "execution_count": null,
   "metadata": {},
   "outputs": [],
   "source": [
    "data['Latitude'] = 0.0\n",
    "data['Longitude'] = 0.0\n",
    "\n",
    "pesquisar = driver.find_element_by_id('searchboxinput')\n",
    "enviar = driver.find_element_by_id(\"searchbox-searchbutton\")\n",
    "\n",
    "for cep in data.CEP:\n",
    "    coordenadas = 0\n",
    "    pesquisar.clear()\n",
    "    pesquisar.send_keys(str(cep))\n",
    "    enviar.click()\n",
    "    try:\n",
    "        time.sleep(3)\n",
    "        coordenadas = driver.current_url.split(\"!3d\")[1]\n",
    "        #print(coordenadas)\n",
    "        latitude = coordenadas.split(\"!4d\")[0]\n",
    "        longitude = coordenadas.split(\"!4d\")[1]\n",
    "        data.loc[data.CEP == int(cep),['Latitude']] = latitude\n",
    "        data.loc[data.CEP == int(cep),['Longitude']] = longitude\n",
    "    except:\n",
    "        pass"
   ]
  },
  {
   "cell_type": "markdown",
   "metadata": {},
   "source": [
    "### Coordenadas geográficas de CEP e Endereço geopy e pycep_correios"
   ]
  },
  {
   "cell_type": "code",
   "execution_count": null,
   "metadata": {
    "scrolled": true
   },
   "outputs": [],
   "source": [
    "\n",
    "data['Latitude'] = 0.0\n",
    "data['Longitude'] = 0.0\n",
    "\n",
    "cep_nd = []\n",
    "atributos = ['cidade','uf','bairro','end']\n",
    "addrs = ''\n",
    "i = 0\n",
    "for cep_n in data.CEP:\n",
    "    try:\n",
    "        for cep in ['0'+ str(cep_n),str(cep_n)]:\n",
    "            addrs = ''\n",
    "            try:\n",
    "                endereco = pycep_correios.consultar_cep(cep)\n",
    "                check = 0\n",
    "                for item in atributos:\n",
    "                    #while check == 0:\n",
    "                    try:\n",
    "                        if item == 'bairro':\n",
    "                            if endereco[item] is None:\n",
    "                                endereco[item] = 'Centro'\n",
    "                        addrs = addrs + ' ' + endereco[item]\n",
    "                        geolocator = Nominatim(user_agent=\"\")\n",
    "                        location = geolocator.geocode(addrs)\n",
    "                        data.loc[data.CEP == int(cep),['Latitude']] = location.latitude\n",
    "                        data.loc[data.CEP == int(cep),['Longitude']] = location.longitude\n",
    "                        check = 1\n",
    "                    except:\n",
    "                        pass\n",
    "            except:\n",
    "                pass\n",
    "    except:\n",
    "        cep_nd.append(cep)"
   ]
  }
 ],
 "metadata": {
  "kernelspec": {
   "display_name": "Python 3",
   "language": "python",
   "name": "python3"
  },
  "language_info": {
   "codemirror_mode": {
    "name": "ipython",
    "version": 3
   },
   "file_extension": ".py",
   "mimetype": "text/x-python",
   "name": "python",
   "nbconvert_exporter": "python",
   "pygments_lexer": "ipython3",
   "version": "3.7.3"
  }
 },
 "nbformat": 4,
 "nbformat_minor": 2
}
